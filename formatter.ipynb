{
 "cells": [
  {
   "cell_type": "code",
   "execution_count": 41,
   "id": "cf92468b-f011-4bdc-bb2f-65aa15eb1bcf",
   "metadata": {},
   "outputs": [],
   "source": [
    "import pandas as pd\n",
    "df = pd.read_csv(\"./twor_2009/annotated.txt\", header = None, delim_whitespace=True, index_col = False,\n",
    "                   names=[\"date\", \"time\", \"sensor\", \"value\", \"activity\", \"begend\"])"
   ]
  },
  {
   "cell_type": "code",
   "execution_count": 43,
   "id": "0c20b425-b013-4135-86f2-aba498a3c0a1",
   "metadata": {},
   "outputs": [],
   "source": [
    "df[\"activity_2\"] = df[\"activity\"] + \"=\\\"\" + df[\"begend\"] + \"\\\"\"\n",
    "df.drop(['activity','begend'], axis=1, inplace=True)"
   ]
  },
  {
   "cell_type": "code",
   "execution_count": 46,
   "id": "e9a2619d-d81c-4792-8d39-d4e7164fcc1f",
   "metadata": {},
   "outputs": [],
   "source": [
    "import csv\n",
    "df.to_csv('annotated_formatted.txt', index=False, sep=' ', header=False, quoting=csv.QUOTE_NONE)"
   ]
  },
  {
   "cell_type": "code",
   "execution_count": null,
   "id": "bfe17a7c-ca0b-42f6-9050-c7beb8545de7",
   "metadata": {},
   "outputs": [],
   "source": []
  }
 ],
 "metadata": {
  "kernelspec": {
   "display_name": "Python 3",
   "language": "python",
   "name": "python3"
  },
  "language_info": {
   "codemirror_mode": {
    "name": "ipython",
    "version": 3
   },
   "file_extension": ".py",
   "mimetype": "text/x-python",
   "name": "python",
   "nbconvert_exporter": "python",
   "pygments_lexer": "ipython3",
   "version": "3.9.4"
  }
 },
 "nbformat": 4,
 "nbformat_minor": 5
}
