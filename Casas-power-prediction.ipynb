{
 "cells": [
  {
   "cell_type": "markdown",
   "metadata": {},
   "source": [
    "# Reading course project\n",
    "The goal of this project is to see whether we can train a regression model to predict the power usage of a house just by using the output of it's smart sensors, in particular we're going to use the datasets number 7 and 8 from Kyoto, taken from [Casas Wsu project](http://casas.wsu.edu/datasets/).\n",
    "The second dataset has records from three different types of sensors:\n",
    "1. Mxx, motion sensors\n",
    "2. Txx, temperature sensors\n",
    "3. P001, eletricity usage\n",
    "\n",
    "While the first one has some additional ones:\n",
    "1. AD1-A, burner sensor\n",
    "2. AD1-B, hot water sensor\n",
    "3. AD1-C, cold water sensor\n",
    "\n",
    "We're going to try three different attempts, in the first one we're going to use only the first dataset to train the  model as it contains a wider variety of sensors, in the second one we're only going to use the second dataset, and in the third one we're going to use both the data from the first dataset and the second but only with the output of the three shared sensors. Afterwards we're going to compare the results from the three attempts to see which one gives better results.\n"
   ]
  },
  {
   "cell_type": "markdown",
   "metadata": {},
   "source": [
    "## First attempt\n",
    "We are going to use two different data sources from the first dataset, the first one is a file called **raw.txt** and it contains the output from the power usage sensor, the motion sensors and the temperature sensors, this data will be taken from a .txt file.\n",
    "The second one is a Postgres database called **casaskyoto** and it contains the output from the burner sensor, hot and cold water sensors.\n",
    "The database was created using the file **annotated_formatted.txt**, which is the output of the **annotated.txt** file from the dataset formatted using the **formatter.ipynb** script, which was then given in input to the script [Activity forecasting db](https://github.com/Piier/activity_forecasting_db).\n",
    "\n",
    "The database contains four different tables:\n",
    "- One for the activities\n",
    "\n",
    "<img src=\"https://i.postimg.cc/3RFPQkf5/activity-table.jpg\" width=\"900\"/>\n",
    "\n",
    "\n",
    "- One for the events\n",
    "\n",
    "<img src=\"https://i.postimg.cc/8ckxpTxF/event-table.jpg\" width=\"700\"/>\n",
    "\n",
    "- One for the houses\n",
    "\n",
    "<img src=\"https://i.postimg.cc/L5ywhrMx/house-table.jpg\" width=\"500\"/>\n",
    "\n",
    "- One for the sensors\n",
    "\n",
    "<img src=\"https://i.postimg.cc/y6nwfSS0/sensor-table.jpg\" width=\"700\"/>\n",
    "\n",
    "For the first file **raw.txt** we're going to create a dataframe, this dataframe will then be split into 3 different dataframes:\n",
    "1. **df_p001**, which stores the data from the power sensor;\n",
    "2. **df_mxx**, which stores the data from the movement sensors;\n",
    "3. **df_txx**, which stores the data from the temperature sensors.\n",
    "\n",
    "Each of these dataframe is going to be resampled using different time windows (10 minutes, 15 minutes, 30 minutes, etc.), using the parameter \"res_rate\", and the value for the power sensor and the temperature sensors are going to be grouped using the average, while the movement sensors data is going to be grouped using the sum of all activated movement sensors during that time window.\n",
    "Afterwards we're going to join these three dataframes into a single one, using 'datetime' as the key.\n",
    "\n",
    "### Feature creation\n",
    "We're also going to add some time related features:\n",
    "1. **time_of_day**, an integer from 0 to 23 representing the hour of the day for each sample;\n",
    "2. **day_of_week**, an integer from 0 to 6 representing the day of the week. This could be useful in the prediction of the power usage, since usually during the weekend the usage is lower during the day and higher during the night."
   ]
  },
  {
   "cell_type": "code",
   "execution_count": 1,
   "metadata": {},
   "outputs": [],
   "source": [
    "import pandas as pd\n",
    "pd.options.mode.chained_assignment = None\n",
    "#Creation of the dataset from the raw file\n",
    "df_raw = pd.read_csv(\"./twor_2009/raw.txt\", header = None, sep='\\t', index_col = False,\n",
    "                   names=[\"datetime\", \"sensor\", \"value\"])"
   ]
  },
  {
   "cell_type": "code",
   "execution_count": 2,
   "metadata": {},
   "outputs": [],
   "source": [
    "#We remove the values from the sensors in the cabinet and the door sensors\n",
    "df_raw = df_raw[(df_raw['value'] != 'PRESENT') & (df_raw['value'] != 'ABSENT')\n",
    "       & (df_raw['value'] != 'CLOSE') & (df_raw['value'] != 'OPEN')]\n",
    "\n",
    "#cast datetime field as datetime type\n",
    "df_raw['datetime'] = pd.to_datetime(df_raw[\"datetime\"])\n",
    "#We only keep the value that says when a sensor has been turned on\n",
    "df_raw = df_raw[df_raw['value'] != 'OFF']\n",
    "#Then we set it to 1, to be able to sum the number of sensors later\n",
    "df_raw.replace('ON','1',regex=True, inplace = True)"
   ]
  },
  {
   "cell_type": "code",
   "execution_count": 3,
   "metadata": {},
   "outputs": [],
   "source": [
    "#dataframe that only contains the data for the power meter\n",
    "df_p001 = df_raw[df_raw['sensor'] == 'P001']\n",
    "df_p001['value'] = pd.to_numeric(df_p001[\"value\"])\n",
    "df_p001 = df_p001[['value', 'datetime']]"
   ]
  },
  {
   "cell_type": "code",
   "execution_count": 4,
   "metadata": {},
   "outputs": [],
   "source": [
    "#Definition of a variable controlling the resampling rate\n",
    "res_rate = '15min'\n",
    "#We resample the data every thirty minutes and then take the mean\n",
    "df_p001 = df_p001.resample(res_rate, on='datetime').value.mean()\n",
    "#Resample returns a series, so we have to make it into a dataframe and reset the index\n",
    "df_p001 = pd.DataFrame(df_p001)\n",
    "df_p001 = df_p001.rename(columns={\"value\": \"power_consumption\"})\n",
    "df_p001.reset_index(inplace=True)"
   ]
  },
  {
   "cell_type": "code",
   "execution_count": 5,
   "metadata": {
    "tags": []
   },
   "outputs": [],
   "source": [
    "#Feature creation, we add two new columns: one for the time of the day and the other one for the day of the week\n",
    "df_p001['time_of_day'] = df_p001['datetime'].apply(lambda row : row.hour)\n",
    "df_p001['day_of_week'] = df_p001['datetime'].apply(lambda row : row.dayofweek)"
   ]
  },
  {
   "cell_type": "code",
   "execution_count": 6,
   "metadata": {},
   "outputs": [
    {
     "data": {
      "text/html": [
       "<div>\n",
       "<style scoped>\n",
       "    .dataframe tbody tr th:only-of-type {\n",
       "        vertical-align: middle;\n",
       "    }\n",
       "\n",
       "    .dataframe tbody tr th {\n",
       "        vertical-align: top;\n",
       "    }\n",
       "\n",
       "    .dataframe thead th {\n",
       "        text-align: right;\n",
       "    }\n",
       "</style>\n",
       "<table border=\"1\" class=\"dataframe\">\n",
       "  <thead>\n",
       "    <tr style=\"text-align: right;\">\n",
       "      <th></th>\n",
       "      <th>datetime</th>\n",
       "      <th>power_consumption</th>\n",
       "      <th>time_of_day</th>\n",
       "      <th>day_of_week</th>\n",
       "    </tr>\n",
       "  </thead>\n",
       "  <tbody>\n",
       "    <tr>\n",
       "      <th>0</th>\n",
       "      <td>2009-02-01 01:00:00</td>\n",
       "      <td>2658.650000</td>\n",
       "      <td>1</td>\n",
       "      <td>6</td>\n",
       "    </tr>\n",
       "    <tr>\n",
       "      <th>1</th>\n",
       "      <td>2009-02-01 01:15:00</td>\n",
       "      <td>3420.600000</td>\n",
       "      <td>1</td>\n",
       "      <td>6</td>\n",
       "    </tr>\n",
       "    <tr>\n",
       "      <th>2</th>\n",
       "      <td>2009-02-01 01:30:00</td>\n",
       "      <td>2329.609677</td>\n",
       "      <td>1</td>\n",
       "      <td>6</td>\n",
       "    </tr>\n",
       "    <tr>\n",
       "      <th>3</th>\n",
       "      <td>2009-02-01 01:45:00</td>\n",
       "      <td>3831.529412</td>\n",
       "      <td>1</td>\n",
       "      <td>6</td>\n",
       "    </tr>\n",
       "    <tr>\n",
       "      <th>4</th>\n",
       "      <td>2009-02-01 02:00:00</td>\n",
       "      <td>3192.333333</td>\n",
       "      <td>2</td>\n",
       "      <td>6</td>\n",
       "    </tr>\n",
       "  </tbody>\n",
       "</table>\n",
       "</div>"
      ],
      "text/plain": [
       "             datetime  power_consumption  time_of_day  day_of_week\n",
       "0 2009-02-01 01:00:00        2658.650000            1            6\n",
       "1 2009-02-01 01:15:00        3420.600000            1            6\n",
       "2 2009-02-01 01:30:00        2329.609677            1            6\n",
       "3 2009-02-01 01:45:00        3831.529412            1            6\n",
       "4 2009-02-01 02:00:00        3192.333333            2            6"
      ]
     },
     "execution_count": 6,
     "metadata": {},
     "output_type": "execute_result"
    }
   ],
   "source": [
    "df_p001.head()"
   ]
  },
  {
   "cell_type": "code",
   "execution_count": 7,
   "metadata": {},
   "outputs": [],
   "source": [
    "#Dataframe for the value of the motion sensors\n",
    "df_mxx = df_raw[df_raw['sensor'].str.match('^M[0-9]*')== True]\n",
    "df_mxx = df_mxx[['value', 'datetime']]\n",
    "df_mxx['value'] = pd.to_numeric(df_mxx[\"value\"])\n",
    "\n",
    "#We resample the data every hour and then take the sumy\n",
    "df_mxx = df_mxx.resample(res_rate, on='datetime').value.sum()\n",
    "#Resample returns a series, so we have to make it into a dataframe and reset the index\n",
    "df_mxx = pd.DataFrame(df_mxx)\n",
    "df_mxx.reset_index(inplace=True)"
   ]
  },
  {
   "cell_type": "code",
   "execution_count": 8,
   "metadata": {},
   "outputs": [],
   "source": [
    "#Renaming of the fields to more understandable names\n",
    "df_mxx = df_mxx.rename(columns={\"value\": \"num_sensors\"})"
   ]
  },
  {
   "cell_type": "code",
   "execution_count": 9,
   "metadata": {},
   "outputs": [
    {
     "data": {
      "text/html": [
       "<div>\n",
       "<style scoped>\n",
       "    .dataframe tbody tr th:only-of-type {\n",
       "        vertical-align: middle;\n",
       "    }\n",
       "\n",
       "    .dataframe tbody tr th {\n",
       "        vertical-align: top;\n",
       "    }\n",
       "\n",
       "    .dataframe thead th {\n",
       "        text-align: right;\n",
       "    }\n",
       "</style>\n",
       "<table border=\"1\" class=\"dataframe\">\n",
       "  <thead>\n",
       "    <tr style=\"text-align: right;\">\n",
       "      <th></th>\n",
       "      <th>datetime</th>\n",
       "      <th>num_sensors</th>\n",
       "    </tr>\n",
       "  </thead>\n",
       "  <tbody>\n",
       "    <tr>\n",
       "      <th>0</th>\n",
       "      <td>2009-02-01 07:15:00</td>\n",
       "      <td>1</td>\n",
       "    </tr>\n",
       "    <tr>\n",
       "      <th>1</th>\n",
       "      <td>2009-02-01 07:30:00</td>\n",
       "      <td>9</td>\n",
       "    </tr>\n",
       "    <tr>\n",
       "      <th>2</th>\n",
       "      <td>2009-02-01 07:45:00</td>\n",
       "      <td>6</td>\n",
       "    </tr>\n",
       "    <tr>\n",
       "      <th>3</th>\n",
       "      <td>2009-02-01 08:00:00</td>\n",
       "      <td>100</td>\n",
       "    </tr>\n",
       "    <tr>\n",
       "      <th>4</th>\n",
       "      <td>2009-02-01 08:15:00</td>\n",
       "      <td>5</td>\n",
       "    </tr>\n",
       "  </tbody>\n",
       "</table>\n",
       "</div>"
      ],
      "text/plain": [
       "             datetime  num_sensors\n",
       "0 2009-02-01 07:15:00            1\n",
       "1 2009-02-01 07:30:00            9\n",
       "2 2009-02-01 07:45:00            6\n",
       "3 2009-02-01 08:00:00          100\n",
       "4 2009-02-01 08:15:00            5"
      ]
     },
     "execution_count": 9,
     "metadata": {},
     "output_type": "execute_result"
    }
   ],
   "source": [
    "df_mxx.head()"
   ]
  },
  {
   "cell_type": "code",
   "execution_count": 10,
   "metadata": {},
   "outputs": [
    {
     "data": {
      "text/html": [
       "<div>\n",
       "<style scoped>\n",
       "    .dataframe tbody tr th:only-of-type {\n",
       "        vertical-align: middle;\n",
       "    }\n",
       "\n",
       "    .dataframe tbody tr th {\n",
       "        vertical-align: top;\n",
       "    }\n",
       "\n",
       "    .dataframe thead th {\n",
       "        text-align: right;\n",
       "    }\n",
       "</style>\n",
       "<table border=\"1\" class=\"dataframe\">\n",
       "  <thead>\n",
       "    <tr style=\"text-align: right;\">\n",
       "      <th></th>\n",
       "      <th>datetime</th>\n",
       "      <th>power_consumption</th>\n",
       "      <th>time_of_day</th>\n",
       "      <th>day_of_week</th>\n",
       "      <th>num_sensors</th>\n",
       "    </tr>\n",
       "  </thead>\n",
       "  <tbody>\n",
       "    <tr>\n",
       "      <th>25</th>\n",
       "      <td>2009-02-01 07:15:00</td>\n",
       "      <td>2416.050000</td>\n",
       "      <td>7</td>\n",
       "      <td>6</td>\n",
       "      <td>1.0</td>\n",
       "    </tr>\n",
       "    <tr>\n",
       "      <th>26</th>\n",
       "      <td>2009-02-01 07:30:00</td>\n",
       "      <td>2900.090909</td>\n",
       "      <td>7</td>\n",
       "      <td>6</td>\n",
       "      <td>9.0</td>\n",
       "    </tr>\n",
       "    <tr>\n",
       "      <th>27</th>\n",
       "      <td>2009-02-01 07:45:00</td>\n",
       "      <td>2450.209524</td>\n",
       "      <td>7</td>\n",
       "      <td>6</td>\n",
       "      <td>6.0</td>\n",
       "    </tr>\n",
       "    <tr>\n",
       "      <th>28</th>\n",
       "      <td>2009-02-01 08:00:00</td>\n",
       "      <td>3201.093750</td>\n",
       "      <td>8</td>\n",
       "      <td>6</td>\n",
       "      <td>100.0</td>\n",
       "    </tr>\n",
       "    <tr>\n",
       "      <th>29</th>\n",
       "      <td>2009-02-01 08:15:00</td>\n",
       "      <td>2763.577273</td>\n",
       "      <td>8</td>\n",
       "      <td>6</td>\n",
       "      <td>5.0</td>\n",
       "    </tr>\n",
       "    <tr>\n",
       "      <th>...</th>\n",
       "      <td>...</td>\n",
       "      <td>...</td>\n",
       "      <td>...</td>\n",
       "      <td>...</td>\n",
       "      <td>...</td>\n",
       "    </tr>\n",
       "    <tr>\n",
       "      <th>8730</th>\n",
       "      <td>2009-05-02 23:30:00</td>\n",
       "      <td>586.371429</td>\n",
       "      <td>23</td>\n",
       "      <td>5</td>\n",
       "      <td>3.0</td>\n",
       "    </tr>\n",
       "    <tr>\n",
       "      <th>8731</th>\n",
       "      <td>2009-05-02 23:45:00</td>\n",
       "      <td>1245.280000</td>\n",
       "      <td>23</td>\n",
       "      <td>5</td>\n",
       "      <td>2.0</td>\n",
       "    </tr>\n",
       "    <tr>\n",
       "      <th>8732</th>\n",
       "      <td>2009-05-03 00:00:00</td>\n",
       "      <td>1640.068182</td>\n",
       "      <td>0</td>\n",
       "      <td>6</td>\n",
       "      <td>146.0</td>\n",
       "    </tr>\n",
       "    <tr>\n",
       "      <th>8733</th>\n",
       "      <td>2009-05-03 00:15:00</td>\n",
       "      <td>3181.217391</td>\n",
       "      <td>0</td>\n",
       "      <td>6</td>\n",
       "      <td>58.0</td>\n",
       "    </tr>\n",
       "    <tr>\n",
       "      <th>8734</th>\n",
       "      <td>2009-05-03 00:30:00</td>\n",
       "      <td>1845.571429</td>\n",
       "      <td>0</td>\n",
       "      <td>6</td>\n",
       "      <td>5.0</td>\n",
       "    </tr>\n",
       "  </tbody>\n",
       "</table>\n",
       "<p>8676 rows × 5 columns</p>\n",
       "</div>"
      ],
      "text/plain": [
       "                datetime  power_consumption  time_of_day  day_of_week  \\\n",
       "25   2009-02-01 07:15:00        2416.050000            7            6   \n",
       "26   2009-02-01 07:30:00        2900.090909            7            6   \n",
       "27   2009-02-01 07:45:00        2450.209524            7            6   \n",
       "28   2009-02-01 08:00:00        3201.093750            8            6   \n",
       "29   2009-02-01 08:15:00        2763.577273            8            6   \n",
       "...                  ...                ...          ...          ...   \n",
       "8730 2009-05-02 23:30:00         586.371429           23            5   \n",
       "8731 2009-05-02 23:45:00        1245.280000           23            5   \n",
       "8732 2009-05-03 00:00:00        1640.068182            0            6   \n",
       "8733 2009-05-03 00:15:00        3181.217391            0            6   \n",
       "8734 2009-05-03 00:30:00        1845.571429            0            6   \n",
       "\n",
       "      num_sensors  \n",
       "25            1.0  \n",
       "26            9.0  \n",
       "27            6.0  \n",
       "28          100.0  \n",
       "29            5.0  \n",
       "...           ...  \n",
       "8730          3.0  \n",
       "8731          2.0  \n",
       "8732        146.0  \n",
       "8733         58.0  \n",
       "8734          5.0  \n",
       "\n",
       "[8676 rows x 5 columns]"
      ]
     },
     "execution_count": 10,
     "metadata": {},
     "output_type": "execute_result"
    }
   ],
   "source": [
    "#We merge the df for the power consumption with the one that has the number of motion sensors activated\n",
    "df_merged = pd.merge(df_p001, df_mxx, on='datetime', how='left')\n",
    "df_merged.dropna(inplace=True)\n",
    "df_merged"
   ]
  },
  {
   "cell_type": "code",
   "execution_count": 11,
   "metadata": {},
   "outputs": [],
   "source": [
    "#Dataframe for the temperature\n",
    "df_txx = df_raw[df_raw['sensor'].str.match('^T[0-9]*') == True]\n",
    "#Cast the temperature value to a numeric type\n",
    "df_txx['value'] = pd.to_numeric(df_txx[\"value\"])\n",
    "#Renaming on the value column\n",
    "df_txx = df_txx.rename(columns={\"value\": \"temperature\"})\n",
    "\n",
    "#We resample the data every hour and then take the mean\n",
    "df_txx = df_txx.resample(res_rate, on='datetime').temperature.mean()\n",
    "#Resample returns a series, so we have to make it into a dataframe and reset the index\n",
    "df_txx = pd.DataFrame(df_txx)\n",
    "df_txx.reset_index(inplace=True)"
   ]
  },
  {
   "cell_type": "code",
   "execution_count": 12,
   "metadata": {},
   "outputs": [
    {
     "data": {
      "text/html": [
       "<div>\n",
       "<style scoped>\n",
       "    .dataframe tbody tr th:only-of-type {\n",
       "        vertical-align: middle;\n",
       "    }\n",
       "\n",
       "    .dataframe tbody tr th {\n",
       "        vertical-align: top;\n",
       "    }\n",
       "\n",
       "    .dataframe thead th {\n",
       "        text-align: right;\n",
       "    }\n",
       "</style>\n",
       "<table border=\"1\" class=\"dataframe\">\n",
       "  <thead>\n",
       "    <tr style=\"text-align: right;\">\n",
       "      <th></th>\n",
       "      <th>datetime</th>\n",
       "      <th>temperature</th>\n",
       "    </tr>\n",
       "  </thead>\n",
       "  <tbody>\n",
       "    <tr>\n",
       "      <th>0</th>\n",
       "      <td>2009-02-01 07:15:00</td>\n",
       "      <td>22.454545</td>\n",
       "    </tr>\n",
       "    <tr>\n",
       "      <th>1</th>\n",
       "      <td>2009-02-01 07:30:00</td>\n",
       "      <td>21.900000</td>\n",
       "    </tr>\n",
       "    <tr>\n",
       "      <th>2</th>\n",
       "      <td>2009-02-01 07:45:00</td>\n",
       "      <td>21.866667</td>\n",
       "    </tr>\n",
       "    <tr>\n",
       "      <th>3</th>\n",
       "      <td>2009-02-01 08:00:00</td>\n",
       "      <td>21.900000</td>\n",
       "    </tr>\n",
       "    <tr>\n",
       "      <th>4</th>\n",
       "      <td>2009-02-01 08:15:00</td>\n",
       "      <td>22.166667</td>\n",
       "    </tr>\n",
       "  </tbody>\n",
       "</table>\n",
       "</div>"
      ],
      "text/plain": [
       "             datetime  temperature\n",
       "0 2009-02-01 07:15:00    22.454545\n",
       "1 2009-02-01 07:30:00    21.900000\n",
       "2 2009-02-01 07:45:00    21.866667\n",
       "3 2009-02-01 08:00:00    21.900000\n",
       "4 2009-02-01 08:15:00    22.166667"
      ]
     },
     "execution_count": 12,
     "metadata": {},
     "output_type": "execute_result"
    }
   ],
   "source": [
    "df_txx.head()"
   ]
  },
  {
   "cell_type": "code",
   "execution_count": 13,
   "metadata": {},
   "outputs": [],
   "source": [
    "#We merge the dataframe for the temperature with the previous one we created\n",
    "df_merged = pd.merge(df_merged, df_txx, on='datetime', how='left')"
   ]
  },
  {
   "cell_type": "code",
   "execution_count": 14,
   "metadata": {},
   "outputs": [
    {
     "data": {
      "text/html": [
       "<div>\n",
       "<style scoped>\n",
       "    .dataframe tbody tr th:only-of-type {\n",
       "        vertical-align: middle;\n",
       "    }\n",
       "\n",
       "    .dataframe tbody tr th {\n",
       "        vertical-align: top;\n",
       "    }\n",
       "\n",
       "    .dataframe thead th {\n",
       "        text-align: right;\n",
       "    }\n",
       "</style>\n",
       "<table border=\"1\" class=\"dataframe\">\n",
       "  <thead>\n",
       "    <tr style=\"text-align: right;\">\n",
       "      <th></th>\n",
       "      <th>datetime</th>\n",
       "      <th>power_consumption</th>\n",
       "      <th>time_of_day</th>\n",
       "      <th>day_of_week</th>\n",
       "      <th>num_sensors</th>\n",
       "      <th>temperature</th>\n",
       "    </tr>\n",
       "  </thead>\n",
       "  <tbody>\n",
       "    <tr>\n",
       "      <th>0</th>\n",
       "      <td>2009-02-01 07:15:00</td>\n",
       "      <td>2416.050000</td>\n",
       "      <td>7</td>\n",
       "      <td>6</td>\n",
       "      <td>1.0</td>\n",
       "      <td>22.454545</td>\n",
       "    </tr>\n",
       "    <tr>\n",
       "      <th>1</th>\n",
       "      <td>2009-02-01 07:30:00</td>\n",
       "      <td>2900.090909</td>\n",
       "      <td>7</td>\n",
       "      <td>6</td>\n",
       "      <td>9.0</td>\n",
       "      <td>21.900000</td>\n",
       "    </tr>\n",
       "    <tr>\n",
       "      <th>2</th>\n",
       "      <td>2009-02-01 07:45:00</td>\n",
       "      <td>2450.209524</td>\n",
       "      <td>7</td>\n",
       "      <td>6</td>\n",
       "      <td>6.0</td>\n",
       "      <td>21.866667</td>\n",
       "    </tr>\n",
       "    <tr>\n",
       "      <th>3</th>\n",
       "      <td>2009-02-01 08:00:00</td>\n",
       "      <td>3201.093750</td>\n",
       "      <td>8</td>\n",
       "      <td>6</td>\n",
       "      <td>100.0</td>\n",
       "      <td>21.900000</td>\n",
       "    </tr>\n",
       "    <tr>\n",
       "      <th>4</th>\n",
       "      <td>2009-02-01 08:15:00</td>\n",
       "      <td>2763.577273</td>\n",
       "      <td>8</td>\n",
       "      <td>6</td>\n",
       "      <td>5.0</td>\n",
       "      <td>22.166667</td>\n",
       "    </tr>\n",
       "  </tbody>\n",
       "</table>\n",
       "</div>"
      ],
      "text/plain": [
       "             datetime  power_consumption  time_of_day  day_of_week  \\\n",
       "0 2009-02-01 07:15:00        2416.050000            7            6   \n",
       "1 2009-02-01 07:30:00        2900.090909            7            6   \n",
       "2 2009-02-01 07:45:00        2450.209524            7            6   \n",
       "3 2009-02-01 08:00:00        3201.093750            8            6   \n",
       "4 2009-02-01 08:15:00        2763.577273            8            6   \n",
       "\n",
       "   num_sensors  temperature  \n",
       "0          1.0    22.454545  \n",
       "1          9.0    21.900000  \n",
       "2          6.0    21.866667  \n",
       "3        100.0    21.900000  \n",
       "4          5.0    22.166667  "
      ]
     },
     "execution_count": 14,
     "metadata": {},
     "output_type": "execute_result"
    }
   ],
   "source": [
    "df_merged.head()"
   ]
  },
  {
   "cell_type": "code",
   "execution_count": 15,
   "metadata": {},
   "outputs": [],
   "source": [
    "# #We plot for each day the number of movement sensors activated every hour, the average temperature and the power consumption, to see if there seems to be \n",
    "# #any correlation among those lines.\n",
    "# from matplotlib.pyplot import figure\n",
    "# import matplotlib\n",
    "# import matplotlib.pyplot as plt\n",
    "# #This is to avoid displaying the images\n",
    "# plt.ioff()\n",
    "# day = 1\n",
    "# for i in range(17, len(df2), 24):\n",
    "#     start = i\n",
    "#     end = i+24\n",
    "#     dfRange = df2.iloc[start:end]\n",
    "#     x1 = dfRange['power_consumption'].tolist()\n",
    "#     x1_div = [x / 10 for x in x1]\n",
    "#     x2 = dfRange['temperature'].tolist()\n",
    "#     x3 = dfRange['num_sensors'].tolist()\n",
    "#     y = dfRange['datetime'].tolist()\n",
    "#     fig, ax = plt.subplots()\n",
    "#     fig.set_size_inches(18.5, 5, forward=True)\n",
    "#     ax.plot(y, x1_div, label='PC');\n",
    "#     ax.plot(y, x2, label='temperature');\n",
    "#     ax.plot(y, x3, label='num_sensors');\n",
    "#     plt.legend();\n",
    "#     file_name = './img/power_consumption_day_' + str(day) + '.png'\n",
    "#     plt.savefig(file_name);\n",
    "#     plt.close(fig);\n",
    "#     day += 1"
   ]
  },
  {
   "cell_type": "markdown",
   "metadata": {},
   "source": [
    "### Plot analysis\n",
    "From the plots we can see that there are days where the power consumption follows a similar pattern to the number of sensors activated:\n",
    "\n",
    "<img src=\"https://i.ibb.co/vYVY3dv/power-consumption-day-8.png\" width=\"900\" />\n",
    "\n",
    "And there are also days where the power consumption and the number of sensors activated don't seem to be correlated:\n",
    "\n",
    "<img src=\"https://i.ibb.co/D5rZ6zZ/power-consumption-day-41.png\" width=\"900\" />\n",
    "\n",
    "There are also some days where the number of motion sensors activated is zero for the whole day, probably meaning that the house was empty, but there is still power usage for that day:\n",
    "\n",
    "<img src=\"https://i.ibb.co/82y5yQ7/power-consumption-day-103.png\" width=\"900\" />"
   ]
  },
  {
   "cell_type": "code",
   "execution_count": 16,
   "metadata": {
    "tags": []
   },
   "outputs": [
    {
     "name": "stdout",
     "output_type": "stream",
     "text": [
      "PostgreSQL connection is closed\n"
     ]
    }
   ],
   "source": [
    "#This is to take the data from the postgres db for the second file that contains data from ad1a, ad1b and ad1c\n",
    "import psycopg2\n",
    "from pandas import DataFrame\n",
    "\n",
    "try:\n",
    "    connection = psycopg2.connect(user=\"postgres\",\n",
    "                                  password=\"admin\",\n",
    "                                  host=\"127.0.0.1\",\n",
    "                                  port=\"5432\",\n",
    "                                  database=\"casaskyoto\")\n",
    "    cursor = connection.cursor()\n",
    "    query1= \"select t1.date as datetime, t2.name as sensor, t1.value from activity.event as t1 join activity.sensor as t2 on t1.sensor = t2.id \"\n",
    "\n",
    "    cursor.execute(query1)\n",
    "    data_np= DataFrame(cursor.fetchall())\n",
    "    data_np.columns = [desc[0] for desc in cursor.description]\n",
    "    \n",
    "\n",
    "except (Exception, psycopg2.Error) as error:\n",
    "    print(\"Error while fetching data from PostgreSQL\", error)\n",
    "\n",
    "finally:\n",
    "    # closing database connection.\n",
    "    if connection:\n",
    "        cursor.close()\n",
    "        connection.close()\n",
    "        print(\"PostgreSQL connection is closed\")"
   ]
  },
  {
   "cell_type": "code",
   "execution_count": 17,
   "metadata": {},
   "outputs": [],
   "source": [
    "#We cast the datetime column as type datetime\n",
    "data_np['datetime'] = pd.to_datetime(data_np[\"datetime\"])"
   ]
  },
  {
   "cell_type": "code",
   "execution_count": 18,
   "metadata": {},
   "outputs": [],
   "source": [
    "#We select only the rows related to those sensors using regex\n",
    "data_ad1 = data_np[data_np['sensor'].str.match('^AD1-[A|B|C]')== True]"
   ]
  },
  {
   "cell_type": "code",
   "execution_count": 19,
   "metadata": {},
   "outputs": [
    {
     "data": {
      "text/html": [
       "<div>\n",
       "<style scoped>\n",
       "    .dataframe tbody tr th:only-of-type {\n",
       "        vertical-align: middle;\n",
       "    }\n",
       "\n",
       "    .dataframe tbody tr th {\n",
       "        vertical-align: top;\n",
       "    }\n",
       "\n",
       "    .dataframe thead th {\n",
       "        text-align: right;\n",
       "    }\n",
       "</style>\n",
       "<table border=\"1\" class=\"dataframe\">\n",
       "  <thead>\n",
       "    <tr style=\"text-align: right;\">\n",
       "      <th></th>\n",
       "      <th>datetime</th>\n",
       "      <th>sensor</th>\n",
       "      <th>value</th>\n",
       "    </tr>\n",
       "  </thead>\n",
       "  <tbody>\n",
       "    <tr>\n",
       "      <th>1255</th>\n",
       "      <td>2009-02-06 08:08:01.776720</td>\n",
       "      <td>AD1-A</td>\n",
       "      <td>2.82223</td>\n",
       "    </tr>\n",
       "    <tr>\n",
       "      <th>1256</th>\n",
       "      <td>2009-02-06 08:08:05.895149</td>\n",
       "      <td>AD1-A</td>\n",
       "      <td>2.79934</td>\n",
       "    </tr>\n",
       "    <tr>\n",
       "      <th>1257</th>\n",
       "      <td>2009-02-06 08:08:54.696549</td>\n",
       "      <td>AD1-A</td>\n",
       "      <td>2.82325</td>\n",
       "    </tr>\n",
       "    <tr>\n",
       "      <th>1258</th>\n",
       "      <td>2009-02-06 08:09:08.766969</td>\n",
       "      <td>AD1-A</td>\n",
       "      <td>2.79692</td>\n",
       "    </tr>\n",
       "    <tr>\n",
       "      <th>1259</th>\n",
       "      <td>2009-02-06 08:11:03.494780</td>\n",
       "      <td>AD1-A</td>\n",
       "      <td>2.81817</td>\n",
       "    </tr>\n",
       "  </tbody>\n",
       "</table>\n",
       "</div>"
      ],
      "text/plain": [
       "                       datetime sensor    value\n",
       "1255 2009-02-06 08:08:01.776720  AD1-A  2.82223\n",
       "1256 2009-02-06 08:08:05.895149  AD1-A  2.79934\n",
       "1257 2009-02-06 08:08:54.696549  AD1-A  2.82325\n",
       "1258 2009-02-06 08:09:08.766969  AD1-A  2.79692\n",
       "1259 2009-02-06 08:11:03.494780  AD1-A  2.81817"
      ]
     },
     "execution_count": 19,
     "metadata": {},
     "output_type": "execute_result"
    }
   ],
   "source": [
    "data_ad1.head()"
   ]
  },
  {
   "cell_type": "code",
   "execution_count": 20,
   "metadata": {},
   "outputs": [],
   "source": [
    "data_ad1.sort_values(by='datetime', inplace=True)"
   ]
  },
  {
   "cell_type": "code",
   "execution_count": 21,
   "metadata": {},
   "outputs": [],
   "source": [
    "data_ad1['value'] = pd.to_numeric(data_ad1['value'])"
   ]
  },
  {
   "cell_type": "code",
   "execution_count": 22,
   "metadata": {},
   "outputs": [],
   "source": [
    "#We divide into three different datasets, one for each different sensor\n",
    "data_ad1a = data_ad1[data_ad1['sensor'] == 'AD1-A']\n",
    "data_ad1b = data_ad1[data_ad1['sensor'] == 'AD1-B']\n",
    "data_ad1c = data_ad1[data_ad1['sensor'] == 'AD1-C']\n",
    "\n",
    "#Drop the sensor column we don't need anymore\n",
    "data_ad1a.drop(['sensor'], axis = 1, inplace=True)\n",
    "data_ad1b.drop(['sensor'], axis = 1, inplace=True)\n",
    "data_ad1c.drop(['sensor'], axis = 1, inplace=True)"
   ]
  },
  {
   "cell_type": "code",
   "execution_count": 23,
   "metadata": {},
   "outputs": [],
   "source": [
    "#We resample the data every hour and then take the sum\n",
    "data_ad1a = data_ad1a.resample(res_rate, on='datetime').value.sum()\n",
    "#Resample returns a series, so we have to make it into a dataframe and reset the index\n",
    "data_ad1a = pd.DataFrame(data_ad1a)\n",
    "data_ad1a.reset_index(inplace=True)\n",
    "\n",
    "#We resample the data every hour and then take the sum\n",
    "data_ad1b = data_ad1b.resample(res_rate, on='datetime').value.sum()\n",
    "#Resample returns a series, so we have to make it into a dataframe and reset the index\n",
    "data_ad1b = pd.DataFrame(data_ad1b)\n",
    "data_ad1b.reset_index(inplace=True)\n",
    "\n",
    "#We resample the data every hour and then take the sum\n",
    "data_ad1c = data_ad1c.resample(res_rate, on='datetime').value.sum()\n",
    "#Resample returns a series, so we have to make it into a dataframe and reset the index\n",
    "data_ad1c = pd.DataFrame(data_ad1c)\n",
    "data_ad1c.reset_index(inplace=True)\n",
    "\n",
    "#Renaming of the columns for each dataset to tell them apart\n",
    "data_ad1a = data_ad1a.rename(columns={\"value\": \"sum_ad1a\"})\n",
    "data_ad1b = data_ad1b.rename(columns={\"value\": \"sum_ad1b\"})\n",
    "data_ad1c = data_ad1c.rename(columns={\"value\": \"sum_ad1c\"})"
   ]
  },
  {
   "cell_type": "code",
   "execution_count": 24,
   "metadata": {},
   "outputs": [],
   "source": [
    "df_merged = pd.merge(df_merged, data_ad1a, on='datetime', how='left')\n",
    "df_merged = pd.merge(df_merged, data_ad1b, on='datetime', how='left')\n",
    "df_merged = pd.merge(df_merged, data_ad1c, on='datetime', how='left')\n",
    "#We fill the NaN with zeros cause it's plausible that there were some times where the burner was not used\n",
    "df_merged.fillna(0, inplace=True)"
   ]
  },
  {
   "cell_type": "code",
   "execution_count": 25,
   "metadata": {},
   "outputs": [
    {
     "data": {
      "text/html": [
       "<div>\n",
       "<style scoped>\n",
       "    .dataframe tbody tr th:only-of-type {\n",
       "        vertical-align: middle;\n",
       "    }\n",
       "\n",
       "    .dataframe tbody tr th {\n",
       "        vertical-align: top;\n",
       "    }\n",
       "\n",
       "    .dataframe thead th {\n",
       "        text-align: right;\n",
       "    }\n",
       "</style>\n",
       "<table border=\"1\" class=\"dataframe\">\n",
       "  <thead>\n",
       "    <tr style=\"text-align: right;\">\n",
       "      <th></th>\n",
       "      <th>datetime</th>\n",
       "      <th>power_consumption</th>\n",
       "      <th>time_of_day</th>\n",
       "      <th>day_of_week</th>\n",
       "      <th>num_sensors</th>\n",
       "      <th>temperature</th>\n",
       "      <th>sum_ad1a</th>\n",
       "      <th>sum_ad1b</th>\n",
       "      <th>sum_ad1c</th>\n",
       "    </tr>\n",
       "  </thead>\n",
       "  <tbody>\n",
       "    <tr>\n",
       "      <th>0</th>\n",
       "      <td>2009-02-01 07:15:00</td>\n",
       "      <td>2416.050000</td>\n",
       "      <td>7</td>\n",
       "      <td>6</td>\n",
       "      <td>1.0</td>\n",
       "      <td>22.454545</td>\n",
       "      <td>0.0</td>\n",
       "      <td>0.0</td>\n",
       "      <td>0.0</td>\n",
       "    </tr>\n",
       "    <tr>\n",
       "      <th>1</th>\n",
       "      <td>2009-02-01 07:30:00</td>\n",
       "      <td>2900.090909</td>\n",
       "      <td>7</td>\n",
       "      <td>6</td>\n",
       "      <td>9.0</td>\n",
       "      <td>21.900000</td>\n",
       "      <td>0.0</td>\n",
       "      <td>0.0</td>\n",
       "      <td>0.0</td>\n",
       "    </tr>\n",
       "    <tr>\n",
       "      <th>2</th>\n",
       "      <td>2009-02-01 07:45:00</td>\n",
       "      <td>2450.209524</td>\n",
       "      <td>7</td>\n",
       "      <td>6</td>\n",
       "      <td>6.0</td>\n",
       "      <td>21.866667</td>\n",
       "      <td>0.0</td>\n",
       "      <td>0.0</td>\n",
       "      <td>0.0</td>\n",
       "    </tr>\n",
       "    <tr>\n",
       "      <th>3</th>\n",
       "      <td>2009-02-01 08:00:00</td>\n",
       "      <td>3201.093750</td>\n",
       "      <td>8</td>\n",
       "      <td>6</td>\n",
       "      <td>100.0</td>\n",
       "      <td>21.900000</td>\n",
       "      <td>0.0</td>\n",
       "      <td>0.0</td>\n",
       "      <td>0.0</td>\n",
       "    </tr>\n",
       "    <tr>\n",
       "      <th>4</th>\n",
       "      <td>2009-02-01 08:15:00</td>\n",
       "      <td>2763.577273</td>\n",
       "      <td>8</td>\n",
       "      <td>6</td>\n",
       "      <td>5.0</td>\n",
       "      <td>22.166667</td>\n",
       "      <td>0.0</td>\n",
       "      <td>0.0</td>\n",
       "      <td>0.0</td>\n",
       "    </tr>\n",
       "    <tr>\n",
       "      <th>...</th>\n",
       "      <td>...</td>\n",
       "      <td>...</td>\n",
       "      <td>...</td>\n",
       "      <td>...</td>\n",
       "      <td>...</td>\n",
       "      <td>...</td>\n",
       "      <td>...</td>\n",
       "      <td>...</td>\n",
       "      <td>...</td>\n",
       "    </tr>\n",
       "    <tr>\n",
       "      <th>8671</th>\n",
       "      <td>2009-05-02 23:30:00</td>\n",
       "      <td>586.371429</td>\n",
       "      <td>23</td>\n",
       "      <td>5</td>\n",
       "      <td>3.0</td>\n",
       "      <td>21.466667</td>\n",
       "      <td>0.0</td>\n",
       "      <td>0.0</td>\n",
       "      <td>0.0</td>\n",
       "    </tr>\n",
       "    <tr>\n",
       "      <th>8672</th>\n",
       "      <td>2009-05-02 23:45:00</td>\n",
       "      <td>1245.280000</td>\n",
       "      <td>23</td>\n",
       "      <td>5</td>\n",
       "      <td>2.0</td>\n",
       "      <td>21.433333</td>\n",
       "      <td>0.0</td>\n",
       "      <td>0.0</td>\n",
       "      <td>0.0</td>\n",
       "    </tr>\n",
       "    <tr>\n",
       "      <th>8673</th>\n",
       "      <td>2009-05-03 00:00:00</td>\n",
       "      <td>1640.068182</td>\n",
       "      <td>0</td>\n",
       "      <td>6</td>\n",
       "      <td>146.0</td>\n",
       "      <td>21.333333</td>\n",
       "      <td>0.0</td>\n",
       "      <td>0.0</td>\n",
       "      <td>0.0</td>\n",
       "    </tr>\n",
       "    <tr>\n",
       "      <th>8674</th>\n",
       "      <td>2009-05-03 00:15:00</td>\n",
       "      <td>3181.217391</td>\n",
       "      <td>0</td>\n",
       "      <td>6</td>\n",
       "      <td>58.0</td>\n",
       "      <td>21.366667</td>\n",
       "      <td>0.0</td>\n",
       "      <td>0.0</td>\n",
       "      <td>0.0</td>\n",
       "    </tr>\n",
       "    <tr>\n",
       "      <th>8675</th>\n",
       "      <td>2009-05-03 00:30:00</td>\n",
       "      <td>1845.571429</td>\n",
       "      <td>0</td>\n",
       "      <td>6</td>\n",
       "      <td>5.0</td>\n",
       "      <td>21.333333</td>\n",
       "      <td>0.0</td>\n",
       "      <td>0.0</td>\n",
       "      <td>0.0</td>\n",
       "    </tr>\n",
       "  </tbody>\n",
       "</table>\n",
       "<p>8676 rows × 9 columns</p>\n",
       "</div>"
      ],
      "text/plain": [
       "                datetime  power_consumption  time_of_day  day_of_week  \\\n",
       "0    2009-02-01 07:15:00        2416.050000            7            6   \n",
       "1    2009-02-01 07:30:00        2900.090909            7            6   \n",
       "2    2009-02-01 07:45:00        2450.209524            7            6   \n",
       "3    2009-02-01 08:00:00        3201.093750            8            6   \n",
       "4    2009-02-01 08:15:00        2763.577273            8            6   \n",
       "...                  ...                ...          ...          ...   \n",
       "8671 2009-05-02 23:30:00         586.371429           23            5   \n",
       "8672 2009-05-02 23:45:00        1245.280000           23            5   \n",
       "8673 2009-05-03 00:00:00        1640.068182            0            6   \n",
       "8674 2009-05-03 00:15:00        3181.217391            0            6   \n",
       "8675 2009-05-03 00:30:00        1845.571429            0            6   \n",
       "\n",
       "      num_sensors  temperature  sum_ad1a  sum_ad1b  sum_ad1c  \n",
       "0             1.0    22.454545       0.0       0.0       0.0  \n",
       "1             9.0    21.900000       0.0       0.0       0.0  \n",
       "2             6.0    21.866667       0.0       0.0       0.0  \n",
       "3           100.0    21.900000       0.0       0.0       0.0  \n",
       "4             5.0    22.166667       0.0       0.0       0.0  \n",
       "...           ...          ...       ...       ...       ...  \n",
       "8671          3.0    21.466667       0.0       0.0       0.0  \n",
       "8672          2.0    21.433333       0.0       0.0       0.0  \n",
       "8673        146.0    21.333333       0.0       0.0       0.0  \n",
       "8674         58.0    21.366667       0.0       0.0       0.0  \n",
       "8675          5.0    21.333333       0.0       0.0       0.0  \n",
       "\n",
       "[8676 rows x 9 columns]"
      ]
     },
     "execution_count": 25,
     "metadata": {},
     "output_type": "execute_result"
    }
   ],
   "source": [
    "df_merged"
   ]
  },
  {
   "cell_type": "markdown",
   "metadata": {},
   "source": [
    "### Machine learning\n",
    "In this part we split the dataframe into X, which will contain the values for the features that we want to use to train our regression model, and y which will be the target variable, then we split X and y into train set and test set.\n",
    "Afterwards we try different ML models to see which one gives the best results. The model used are:\n",
    "1. Decision tree regressor\n",
    "2. Multilayer perceptron regressor\n",
    "3. Linear regression\n",
    "4. Support Vector Regression"
   ]
  },
  {
   "cell_type": "code",
   "execution_count": 26,
   "metadata": {},
   "outputs": [],
   "source": [
    "from sklearn.model_selection import train_test_split\n",
    "X = df_merged[['time_of_day', 'num_sensors','day_of_week','temperature','sum_ad1a', 'sum_ad1b', 'sum_ad1c']]\n",
    "y = df_merged['power_consumption']\n",
    "X_train, X_test, y_train, y_test = train_test_split(X, y, test_size=0.33, random_state=42)"
   ]
  },
  {
   "cell_type": "code",
   "execution_count": 27,
   "metadata": {},
   "outputs": [],
   "source": [
    "from sklearn import metrics\n",
    "from sklearn.metrics import r2_score,mean_squared_error, mean_absolute_percentage_error\n",
    "def print_metrics(y_true, y_pred):\n",
    "    print('R2 Score:', r2_score(y_test, y_pred))\n",
    "    print('MAPE :' + str(mean_absolute_percentage_error(y_test, y_pred)*100) + \"%\")\n"
   ]
  },
  {
   "cell_type": "code",
   "execution_count": 28,
   "metadata": {},
   "outputs": [
    {
     "name": "stdout",
     "output_type": "stream",
     "text": [
      "R2 Score: 0.16273621347847245\n",
      "MAPE :83.26052988867116%\n"
     ]
    }
   ],
   "source": [
    "from sklearn.tree import DecisionTreeRegressor\n",
    "from sklearn import tree\n",
    "regr = DecisionTreeRegressor(max_depth=4)\n",
    "regr.fit(X_train, y_train)\n",
    "y_pred = regr.predict(X_test)\n",
    "print_metrics(y_test, y_pred)"
   ]
  },
  {
   "cell_type": "code",
   "execution_count": 29,
   "metadata": {},
   "outputs": [
    {
     "name": "stdout",
     "output_type": "stream",
     "text": [
      "R2 Score: 0.1524024406972665\n",
      "MAPE :86.13785303017349%\n"
     ]
    }
   ],
   "source": [
    "from sklearn.neural_network import MLPRegressor\n",
    "regr = MLPRegressor(random_state=1, max_iter=1000).fit(X_train, y_train)\n",
    "y_pred = regr.predict(X_test)\n",
    "print_metrics(y_test, y_pred)"
   ]
  },
  {
   "cell_type": "code",
   "execution_count": 30,
   "metadata": {},
   "outputs": [
    {
     "name": "stdout",
     "output_type": "stream",
     "text": [
      "R2 Score: 0.11928295908459319\n",
      "MAPE :87.74802437947089%\n"
     ]
    }
   ],
   "source": [
    "from sklearn.linear_model import LinearRegression\n",
    "linear_regressor = LinearRegression()\n",
    "linear_regressor.fit(X_train, y_train)\n",
    "y_pred = linear_regressor.predict(X_test)\n",
    "print_metrics(y_test, y_pred)"
   ]
  },
  {
   "cell_type": "code",
   "execution_count": 31,
   "metadata": {},
   "outputs": [
    {
     "name": "stdout",
     "output_type": "stream",
     "text": [
      "R2 Score: 0.07803359692196576\n",
      "MAPE :82.05345552635393%\n"
     ]
    }
   ],
   "source": [
    "from sklearn import svm\n",
    "from sklearn.svm import SVR\n",
    "from sklearn.pipeline import make_pipeline\n",
    "from sklearn.preprocessing import StandardScaler\n",
    "regr = make_pipeline(StandardScaler(), SVR(kernel='linear'))\n",
    "regr.fit(X_train, y_train)\n",
    "y_pred = regr.predict(X_test)\n",
    "print_metrics(y_test, y_pred)"
   ]
  },
  {
   "cell_type": "markdown",
   "metadata": {},
   "source": [
    "# Second try using only the second dataset\n",
    "We try the same strategy, using only the second dataset."
   ]
  },
  {
   "cell_type": "code",
   "execution_count": 32,
   "metadata": {},
   "outputs": [],
   "source": [
    "#Creation of the dataset from the raw file\n",
    "df_summer = pd.read_csv(\"./twor_2009/annotated_summer.txt\", header = None, sep='\\t', index_col = False,\n",
    "                   names=[\"datetime\", \"sensor\", \"value\"])\n",
    "\n",
    "#Cast datetime field as type datetime\n",
    "df_summer['datetime'] = pd.to_datetime(df_summer[\"datetime\"])\n",
    "\n",
    "#We get the date of the first row, will be used later to compute the timedelta\n",
    "first_date = df_summer.head(1)['datetime'].values[0]\n",
    "\n",
    "#We replace the values 'ON' for the movement sensors with one\n",
    "df_summer.replace('ON','1',regex=True, inplace = True)\n",
    "\n",
    "#We cast to numeric all the values, if a value is not a number errors='coerce' will return nan so we drop the nan\n",
    "df_summer['value'] = pd.to_numeric(df_summer[\"value\"],  errors='coerce')\n",
    "df_summer.dropna(inplace=True)"
   ]
  },
  {
   "cell_type": "code",
   "execution_count": 33,
   "metadata": {},
   "outputs": [],
   "source": [
    "#Create new dfs for each of the sensors we want to keep track of\n",
    "df_summer_p001 = df_summer[df_summer['sensor'] == 'P001']\n",
    "df_summer_mxx = df_summer[(df_summer['sensor'].str.match('^M[0-9]+')== True)]\n",
    "df_summer_txx = df_summer[df_summer['sensor'].str.match('^T[0-9]+')== True]"
   ]
  },
  {
   "cell_type": "code",
   "execution_count": 34,
   "metadata": {},
   "outputs": [],
   "source": [
    "# #We group by hour, we get the sum for the power and movement sensors, while we get the mean of the temperature\n",
    "# df_summer_p001 = df_summer_p001.groupby('time_delta').mean()\n",
    "# df_summer_mxx = df_summer_mxx.groupby('time_delta').sum()\n",
    "# df_summer_txx = df_summer_txx.groupby('time_delta').mean()\n",
    "\n",
    "#We resample the data every thirty minutes and then take the mean\n",
    "df_summer_p001 = df_summer_p001.resample(res_rate, on='datetime').value.mean()\n",
    "#Resample returns a series, so we have to make it into a dataframe and reset the index\n",
    "df_summer_p001 = pd.DataFrame(df_summer_p001)\n",
    "df_summer_p001.reset_index(inplace=True)\n",
    "\n",
    "#We resample the data every thirty minutes and then take the mean\n",
    "df_summer_mxx = df_summer_mxx.resample(res_rate, on='datetime').value.sum()\n",
    "#Resample returns a series, so we have to make it into a dataframe and reset the index\n",
    "df_summer_mxx = pd.DataFrame(df_summer_mxx)\n",
    "df_summer_mxx.reset_index(inplace=True)\n",
    "\n",
    "#We resample the data every thirty minutes and then take the mean\n",
    "df_summer_txx = df_summer_txx.resample(res_rate, on='datetime').value.mean()\n",
    "#Resample returns a series, so we have to make it into a dataframe and reset the index\n",
    "df_summer_txx = pd.DataFrame(df_summer_txx)\n",
    "df_summer_txx.reset_index(inplace=True)"
   ]
  },
  {
   "cell_type": "code",
   "execution_count": 35,
   "metadata": {},
   "outputs": [],
   "source": [
    "df_summer_p001['time_of_day'] = df_summer_p001['datetime'].apply(lambda row : row.hour)"
   ]
  },
  {
   "cell_type": "code",
   "execution_count": 36,
   "metadata": {},
   "outputs": [],
   "source": [
    "#Renaming of the fields to more understandable names\n",
    "df_summer_mxx = df_summer_mxx.rename(columns={\"value\": \"num_sensors\"})\n",
    "df_summer_p001 = df_summer_p001.rename(columns={\"value\": \"power_consumption\"})\n",
    "df_summer_txx = df_summer_txx.rename(columns={\"value\": \"temperature\"})"
   ]
  },
  {
   "cell_type": "code",
   "execution_count": 37,
   "metadata": {},
   "outputs": [],
   "source": [
    "df_merged_summer = pd.merge(df_summer_mxx, df_summer_p001, on='datetime', how='left')"
   ]
  },
  {
   "cell_type": "code",
   "execution_count": 38,
   "metadata": {},
   "outputs": [],
   "source": [
    "df_merged_summer = pd.merge(df_merged_summer, df_summer_txx, on='datetime', how='left')"
   ]
  },
  {
   "cell_type": "code",
   "execution_count": 39,
   "metadata": {},
   "outputs": [],
   "source": [
    "df_merged_summer = df_merged_summer.reset_index()\n",
    "df_merged_summer.drop(['index'], axis = 1, inplace=True)"
   ]
  },
  {
   "cell_type": "code",
   "execution_count": 40,
   "metadata": {},
   "outputs": [],
   "source": [
    "df_merged_summer.dropna(inplace=True)"
   ]
  },
  {
   "cell_type": "code",
   "execution_count": 41,
   "metadata": {},
   "outputs": [
    {
     "data": {
      "text/html": [
       "<div>\n",
       "<style scoped>\n",
       "    .dataframe tbody tr th:only-of-type {\n",
       "        vertical-align: middle;\n",
       "    }\n",
       "\n",
       "    .dataframe tbody tr th {\n",
       "        vertical-align: top;\n",
       "    }\n",
       "\n",
       "    .dataframe thead th {\n",
       "        text-align: right;\n",
       "    }\n",
       "</style>\n",
       "<table border=\"1\" class=\"dataframe\">\n",
       "  <thead>\n",
       "    <tr style=\"text-align: right;\">\n",
       "      <th></th>\n",
       "      <th>datetime</th>\n",
       "      <th>num_sensors</th>\n",
       "      <th>power_consumption</th>\n",
       "      <th>time_of_day</th>\n",
       "      <th>temperature</th>\n",
       "    </tr>\n",
       "  </thead>\n",
       "  <tbody>\n",
       "    <tr>\n",
       "      <th>0</th>\n",
       "      <td>2009-05-29 00:15:00</td>\n",
       "      <td>6.0</td>\n",
       "      <td>3534.222222</td>\n",
       "      <td>0</td>\n",
       "      <td>24.700000</td>\n",
       "    </tr>\n",
       "    <tr>\n",
       "      <th>1</th>\n",
       "      <td>2009-05-29 00:30:00</td>\n",
       "      <td>3.0</td>\n",
       "      <td>1578.355556</td>\n",
       "      <td>0</td>\n",
       "      <td>24.600000</td>\n",
       "    </tr>\n",
       "    <tr>\n",
       "      <th>2</th>\n",
       "      <td>2009-05-29 00:45:00</td>\n",
       "      <td>4.0</td>\n",
       "      <td>496.400000</td>\n",
       "      <td>0</td>\n",
       "      <td>24.533333</td>\n",
       "    </tr>\n",
       "    <tr>\n",
       "      <th>3</th>\n",
       "      <td>2009-05-29 01:00:00</td>\n",
       "      <td>2.0</td>\n",
       "      <td>547.557143</td>\n",
       "      <td>1</td>\n",
       "      <td>24.400000</td>\n",
       "    </tr>\n",
       "    <tr>\n",
       "      <th>4</th>\n",
       "      <td>2009-05-29 01:15:00</td>\n",
       "      <td>2.0</td>\n",
       "      <td>612.440000</td>\n",
       "      <td>1</td>\n",
       "      <td>24.300000</td>\n",
       "    </tr>\n",
       "    <tr>\n",
       "      <th>...</th>\n",
       "      <td>...</td>\n",
       "      <td>...</td>\n",
       "      <td>...</td>\n",
       "      <td>...</td>\n",
       "      <td>...</td>\n",
       "    </tr>\n",
       "    <tr>\n",
       "      <th>6113</th>\n",
       "      <td>2009-07-31 16:30:00</td>\n",
       "      <td>1.0</td>\n",
       "      <td>378.854167</td>\n",
       "      <td>16</td>\n",
       "      <td>31.125000</td>\n",
       "    </tr>\n",
       "    <tr>\n",
       "      <th>6114</th>\n",
       "      <td>2009-07-31 16:45:00</td>\n",
       "      <td>28.0</td>\n",
       "      <td>433.260714</td>\n",
       "      <td>16</td>\n",
       "      <td>31.214286</td>\n",
       "    </tr>\n",
       "    <tr>\n",
       "      <th>6115</th>\n",
       "      <td>2009-07-31 17:00:00</td>\n",
       "      <td>20.0</td>\n",
       "      <td>418.265672</td>\n",
       "      <td>17</td>\n",
       "      <td>32.000000</td>\n",
       "    </tr>\n",
       "    <tr>\n",
       "      <th>6116</th>\n",
       "      <td>2009-07-31 17:15:00</td>\n",
       "      <td>42.0</td>\n",
       "      <td>402.905660</td>\n",
       "      <td>17</td>\n",
       "      <td>31.083333</td>\n",
       "    </tr>\n",
       "    <tr>\n",
       "      <th>6117</th>\n",
       "      <td>2009-07-31 17:30:00</td>\n",
       "      <td>124.0</td>\n",
       "      <td>517.978571</td>\n",
       "      <td>17</td>\n",
       "      <td>31.250000</td>\n",
       "    </tr>\n",
       "  </tbody>\n",
       "</table>\n",
       "<p>5047 rows × 5 columns</p>\n",
       "</div>"
      ],
      "text/plain": [
       "                datetime  num_sensors  power_consumption  time_of_day  \\\n",
       "0    2009-05-29 00:15:00          6.0        3534.222222            0   \n",
       "1    2009-05-29 00:30:00          3.0        1578.355556            0   \n",
       "2    2009-05-29 00:45:00          4.0         496.400000            0   \n",
       "3    2009-05-29 01:00:00          2.0         547.557143            1   \n",
       "4    2009-05-29 01:15:00          2.0         612.440000            1   \n",
       "...                  ...          ...                ...          ...   \n",
       "6113 2009-07-31 16:30:00          1.0         378.854167           16   \n",
       "6114 2009-07-31 16:45:00         28.0         433.260714           16   \n",
       "6115 2009-07-31 17:00:00         20.0         418.265672           17   \n",
       "6116 2009-07-31 17:15:00         42.0         402.905660           17   \n",
       "6117 2009-07-31 17:30:00        124.0         517.978571           17   \n",
       "\n",
       "      temperature  \n",
       "0       24.700000  \n",
       "1       24.600000  \n",
       "2       24.533333  \n",
       "3       24.400000  \n",
       "4       24.300000  \n",
       "...           ...  \n",
       "6113    31.125000  \n",
       "6114    31.214286  \n",
       "6115    32.000000  \n",
       "6116    31.083333  \n",
       "6117    31.250000  \n",
       "\n",
       "[5047 rows x 5 columns]"
      ]
     },
     "execution_count": 41,
     "metadata": {},
     "output_type": "execute_result"
    }
   ],
   "source": [
    "df_merged_summer"
   ]
  },
  {
   "cell_type": "code",
   "execution_count": 42,
   "metadata": {},
   "outputs": [],
   "source": [
    "X = df_merged_summer[['time_of_day', 'num_sensors','temperature']]\n",
    "y = df_merged_summer['power_consumption']\n",
    "X_train, X_test, y_train, y_test = train_test_split(X, y, test_size=0.33, random_state=42)"
   ]
  },
  {
   "cell_type": "code",
   "execution_count": 43,
   "metadata": {},
   "outputs": [
    {
     "name": "stdout",
     "output_type": "stream",
     "text": [
      "R2 Score: 0.043586119405368606\n",
      "MAPE :34.76072259718001%\n"
     ]
    }
   ],
   "source": [
    "regr = make_pipeline(StandardScaler(), SVR(kernel='linear'))\n",
    "regr.fit(X_train, y_train)\n",
    "y_pred = regr.predict(X_test)\n",
    "print_metrics(y_test, y_pred)"
   ]
  },
  {
   "cell_type": "code",
   "execution_count": 44,
   "metadata": {},
   "outputs": [
    {
     "name": "stdout",
     "output_type": "stream",
     "text": [
      "R2 Score: 0.2780153991515786\n",
      "MAPE :56.31789717270603%\n"
     ]
    }
   ],
   "source": [
    "regr = MLPRegressor(random_state=1, max_iter=2000).fit(X_train, y_train)\n",
    "y_pred = regr.predict(X_test)\n",
    "print_metrics(y_test, y_pred)"
   ]
  },
  {
   "cell_type": "code",
   "execution_count": 45,
   "metadata": {},
   "outputs": [
    {
     "name": "stdout",
     "output_type": "stream",
     "text": [
      "R2 Score: 0.3254703799312534\n",
      "MAPE :54.23518755103458%\n"
     ]
    }
   ],
   "source": [
    "regr = DecisionTreeRegressor(max_depth=4)\n",
    "regr.fit(X_train, y_train)\n",
    "y_pred = regr.predict(X_test)\n",
    "print_metrics(y_test, y_pred)"
   ]
  },
  {
   "cell_type": "code",
   "execution_count": 46,
   "metadata": {},
   "outputs": [
    {
     "name": "stdout",
     "output_type": "stream",
     "text": [
      "R2 Score: 0.17071860856480947\n",
      "MAPE :61.45657841716805%\n"
     ]
    }
   ],
   "source": [
    "linear_regressor = LinearRegression()\n",
    "linear_regressor.fit(X_train, y_train)\n",
    "y_pred = linear_regressor.predict(X_test)\n",
    "print_metrics(y_test, y_pred)"
   ]
  },
  {
   "cell_type": "markdown",
   "metadata": {},
   "source": [
    "### Third attempt\n",
    "We make a third attempt using the data from the first dataset and the second one at the same time, to see if the precision of the algorithm will improve using more examples to train the model."
   ]
  },
  {
   "cell_type": "code",
   "execution_count": 47,
   "metadata": {},
   "outputs": [],
   "source": [
    "df_merged_short = df_merged.drop(['sum_ad1a','sum_ad1b', 'sum_ad1c'], axis=1)\n",
    "frames = [df_merged_short, df_merged_summer]\n",
    "df_concat = pd.concat(frames)"
   ]
  },
  {
   "cell_type": "code",
   "execution_count": 48,
   "metadata": {},
   "outputs": [],
   "source": [
    "X = df_concat[['time_of_day', 'num_sensors','temperature']]\n",
    "y = df_concat['power_consumption']\n",
    "X_train, X_test, y_train, y_test = train_test_split(X, y, test_size=0.33, random_state=42)"
   ]
  },
  {
   "cell_type": "code",
   "execution_count": 49,
   "metadata": {},
   "outputs": [
    {
     "name": "stdout",
     "output_type": "stream",
     "text": [
      "R2 Score: 0.21731666815656847\n",
      "MAPE :101.62350420873096%\n"
     ]
    }
   ],
   "source": [
    "regr = DecisionTreeRegressor(max_depth=4)\n",
    "regr.fit(X_train, y_train)\n",
    "y_pred = regr.predict(X_test)\n",
    "print_metrics(y_test, y_pred)"
   ]
  },
  {
   "cell_type": "code",
   "execution_count": 50,
   "metadata": {},
   "outputs": [
    {
     "name": "stdout",
     "output_type": "stream",
     "text": [
      "R2 Score: 0.04425999371377698\n",
      "MAPE :95.6555174355628%\n"
     ]
    }
   ],
   "source": [
    "regr = make_pipeline(StandardScaler(), SVR(kernel='linear'))\n",
    "regr.fit(X_train, y_train)\n",
    "y_pred = regr.predict(X_test)\n",
    "print_metrics(y_test, y_pred)"
   ]
  },
  {
   "cell_type": "code",
   "execution_count": null,
   "metadata": {},
   "outputs": [],
   "source": []
  },
  {
   "cell_type": "markdown",
   "metadata": {},
   "source": [
    "# Testing results and conclusions\n",
    "The metrics of evaluation used for the testing of the models are:\n",
    "- R2 score, the best possible value is 1.0 and can also be negative. It's computed as 1 - SSres / SStot. Where SSres is the sum of squares of the residual errors and SStot is the total sum of the errors.\n",
    "- Mean absolute percentage error, computed as the subraction between the true value and the predicted value, divided by the true value and multiplied for 100. The lower the value, the better the model.\n",
    "\n",
    "The testing was conducted using different time windows for the resampling of the dataset (10 minutes, 15 minutes, 30 minutes, 1 hour, etc.). Below we will report the results for the two most significant time windows: 15 minute and 1 hour.\n",
    "\n",
    "<table class=\"tg\">\n",
    "    <caption>Test results (1 hour)</caption>\n",
    "<thead>\n",
    "  <tr>\n",
    "    <th class=\"tg-0pky\">Dataset</th>\n",
    "    <th class=\"tg-0pky\">Number of samples</th>\n",
    "    <th class=\"tg-0pky\">R2 score</th>\n",
    "    <th class=\"tg-0pky\">Mean absolute percentage error</th>\n",
    "    <th class=\"tg-0pky\">Algorithm</th>\n",
    "  </tr>\n",
    "</thead>\n",
    "<tbody>\n",
    "  <tr>\n",
    "    <td class=\"tg-0pky\">Spring 2009 (7)</td>\n",
    "    <td class=\"tg-0pky\">2177</td>\n",
    "    <td class=\"tg-0pky\">0.288</td>\n",
    "    <td class=\"tg-0lax\">48.25%</td>\n",
    "    <td class=\"tg-0lax\">Decision Tree regressor</td>\n",
    "  </tr>\n",
    "  <tr>\n",
    "    <td class=\"tg-0pky\">Summer 2009 (8)</td>\n",
    "    <td class=\"tg-0pky\">1354</td>\n",
    "    <td class=\"tg-0pky\">0.0451</td>\n",
    "    <td class=\"tg-0lax\">32.88%</td>\n",
    "    <td class=\"tg-0lax\">SVR</td>\n",
    "  </tr>\n",
    "  <tr>\n",
    "    <td class=\"tg-0pky\">Merged dataset</td>\n",
    "    <td class=\"tg-0pky\">3531</td>\n",
    "    <td class=\"tg-0pky\">0.111</td>\n",
    "    <td class=\"tg-0lax\">71.40%</td>\n",
    "    <td class=\"tg-0lax\">Decision Tree regressor</td>\n",
    "  </tr>\n",
    "</tbody>\n",
    "</table>\n",
    "\n",
    "From the table above we can see that the only best result in terms of MAPE comes from the summer dataset, with a value of around 32%, while the first dataset has a MAPE of around 50%.\n",
    "However that MAPE value is paired with a very low R2 score, which probably tells us that the high MAPE value is probably only due to low variability in that specific dataset and not to the quality of the prediction model.\n",
    "We can also notice that the increased number of samples in the third dataset, made by concatenating the first and the second dataset, did not improve the results of the prediction probably because of the diversity of the two datasets.\n",
    "\n",
    "\n",
    "<table class=\"tg\">\n",
    "    <caption>Test results (15 minutes)</caption>\n",
    "<thead>\n",
    "  <tr>\n",
    "    <th class=\"tg-0pky\">Dataset</th>\n",
    "    <th class=\"tg-0pky\">Number of samples</th>\n",
    "    <th class=\"tg-0pky\">R2 score</th>\n",
    "    <th class=\"tg-0pky\">Mean absolute percentage error</th>\n",
    "    <th class=\"tg-0pky\">Algorithm</th>\n",
    "  </tr>\n",
    "</thead>\n",
    "<tbody>\n",
    "  <tr>\n",
    "    <td class=\"tg-0pky\">Spring 2009 (7)</td>\n",
    "    <td class=\"tg-0pky\">8676</td>\n",
    "    <td class=\"tg-0pky\">0.162</td>\n",
    "    <td class=\"tg-0lax\">83.26%</td>\n",
    "    <td class=\"tg-0lax\">Decision Tree regressor</td>\n",
    "  </tr>\n",
    "  <tr>\n",
    "    <td class=\"tg-0pky\">Summer 2009 (8)</td>\n",
    "    <td class=\"tg-0pky\">5047</td>\n",
    "    <td class=\"tg-0pky\">0.325</td>\n",
    "    <td class=\"tg-0lax\">54.23%</td>\n",
    "    <td class=\"tg-0lax\">Decision tree regressor</td>\n",
    "  </tr>\n",
    "  <tr>\n",
    "    <td class=\"tg-0pky\">Merged dataset</td>\n",
    "    <td class=\"tg-0pky\">13723</td>\n",
    "    <td class=\"tg-0pky\">0.217</td>\n",
    "    <td class=\"tg-0lax\">101.62%</td>\n",
    "    <td class=\"tg-0lax\">SVR</td>\n",
    "  </tr>\n",
    "</tbody>\n",
    "</table>\n",
    "\n",
    "The table above reports the results using a 15 minutes time window. We can see this change brings us better results for the second dataset, which has an increased MAPE value but a better R2 score, which tells us that we have a probably better overall prediction model, but also worse results for the other two datasets. This brings us to the conclusion that the resampling time window is a very dataset-specific parameter, and thus we can't find an ideal value but it has to be determined for that dataset."
   ]
  },
  {
   "cell_type": "markdown",
   "metadata": {},
   "source": [
    "### Prediction of future power consumption\n",
    "In this part, we're going to try to predict the power consumption of the next time window, based on the data from the previous time window.\n",
    "We're going to add a new column to each of the three previous dataframes based on the power consumption of the next time window, except for the last row, which doesn't have a next time window."
   ]
  },
  {
   "cell_type": "code",
   "execution_count": 51,
   "metadata": {},
   "outputs": [],
   "source": [
    "#empty list that will contain the value of the power consumption for the next row\n",
    "next_pc_list = []\n",
    "for index, row in df_merged.iterrows():\n",
    "    next_pc = None\n",
    "    #The last row won't have a next power consumption so we stop at the second to last\n",
    "    if(index < len(df_merged)-1):\n",
    "        next_pc = df_merged.iloc[index+1].power_consumption\n",
    "    next_pc_list.append(next_pc)"
   ]
  },
  {
   "cell_type": "code",
   "execution_count": 52,
   "metadata": {},
   "outputs": [],
   "source": [
    "#We create a new column for the dataframe from the list, then drop the last row that doesn't have the value\n",
    "df_merged['next_pc'] = next_pc_list\n",
    "df_merged.dropna(inplace=True)"
   ]
  },
  {
   "cell_type": "code",
   "execution_count": 53,
   "metadata": {},
   "outputs": [],
   "source": [
    "X = df_merged[['time_of_day', 'num_sensors','day_of_week','temperature','sum_ad1a', 'sum_ad1b', 'sum_ad1c', 'power_consumption']]\n",
    "y = df_merged['next_pc']\n",
    "X_train, X_test, y_train, y_test = train_test_split(X, y, test_size=0.33, random_state=42)"
   ]
  },
  {
   "cell_type": "code",
   "execution_count": 54,
   "metadata": {},
   "outputs": [
    {
     "name": "stdout",
     "output_type": "stream",
     "text": [
      "R2 Score: 0.31869887441777855\n",
      "MAPE :73.82863351288862%\n"
     ]
    }
   ],
   "source": [
    "regr = DecisionTreeRegressor(max_depth=4)\n",
    "regr.fit(X_train, y_train)\n",
    "y_pred = regr.predict(X_test)\n",
    "print_metrics(y_test, y_pred)"
   ]
  },
  {
   "cell_type": "code",
   "execution_count": 55,
   "metadata": {},
   "outputs": [
    {
     "name": "stdout",
     "output_type": "stream",
     "text": [
      "R2 Score: 0.324339144294722\n",
      "MAPE :76.86703336728714%\n"
     ]
    }
   ],
   "source": [
    "regr = MLPRegressor(random_state=1, max_iter=1000).fit(X_train, y_train)\n",
    "y_pred = regr.predict(X_test)\n",
    "print_metrics(y_test, y_pred)"
   ]
  },
  {
   "cell_type": "code",
   "execution_count": 56,
   "metadata": {},
   "outputs": [
    {
     "name": "stdout",
     "output_type": "stream",
     "text": [
      "R2 Score: 0.30842871930741267\n",
      "MAPE :76.33409539663704%\n"
     ]
    }
   ],
   "source": [
    "linear_regressor = LinearRegression()\n",
    "linear_regressor.fit(X_train, y_train)\n",
    "y_pred = linear_regressor.predict(X_test)\n",
    "print_metrics(y_test, y_pred)"
   ]
  },
  {
   "cell_type": "code",
   "execution_count": 57,
   "metadata": {},
   "outputs": [
    {
     "name": "stdout",
     "output_type": "stream",
     "text": [
      "R2 Score: 0.26626574108451584\n",
      "MAPE :75.36743522243971%\n"
     ]
    }
   ],
   "source": [
    "regr = make_pipeline(StandardScaler(), SVR(kernel='linear'))\n",
    "regr.fit(X_train, y_train)\n",
    "y_pred = regr.predict(X_test)\n",
    "print_metrics(y_test, y_pred)"
   ]
  },
  {
   "cell_type": "markdown",
   "metadata": {},
   "source": [
    "## Second dataset"
   ]
  },
  {
   "cell_type": "code",
   "execution_count": 58,
   "metadata": {},
   "outputs": [],
   "source": [
    "next_pc_list = []\n",
    "\n",
    "for index, row in df_merged_summer.iterrows():\n",
    "    next_pc = None\n",
    "    #The last row won't have a next power consumption so we stop at the second to last\n",
    "    if(index < len(df_merged_summer)-1):\n",
    "        next_pc = df_merged_summer.iloc[index+1].power_consumption\n",
    "    next_pc_list.append(next_pc)\n",
    "    \n",
    "#We create a new column for the dataframe from the list, then drop the last row that doesn't have the value\n",
    "df_merged_summer['next_pc'] = next_pc_list\n",
    "df_merged_summer.dropna(inplace=True)"
   ]
  },
  {
   "cell_type": "code",
   "execution_count": 59,
   "metadata": {},
   "outputs": [],
   "source": [
    "X = df_merged_summer[['time_of_day', 'num_sensors','temperature']]\n",
    "y = df_merged_summer['power_consumption']\n",
    "X_train, X_test, y_train, y_test = train_test_split(X, y, test_size=0.33, random_state=42)"
   ]
  },
  {
   "cell_type": "code",
   "execution_count": 60,
   "metadata": {},
   "outputs": [
    {
     "name": "stdout",
     "output_type": "stream",
     "text": [
      "R2 Score: 0.26850802177773647\n",
      "MAPE :50.31776770302524%\n"
     ]
    }
   ],
   "source": [
    "regr = DecisionTreeRegressor(max_depth=4)\n",
    "regr.fit(X_train, y_train)\n",
    "y_pred = regr.predict(X_test)\n",
    "print_metrics(y_test, y_pred)"
   ]
  },
  {
   "cell_type": "code",
   "execution_count": 61,
   "metadata": {},
   "outputs": [
    {
     "name": "stdout",
     "output_type": "stream",
     "text": [
      "R2 Score: 0.2529017868784801\n",
      "MAPE :53.45900122257022%\n"
     ]
    }
   ],
   "source": [
    "regr = MLPRegressor(random_state=1, max_iter=3000).fit(X_train, y_train)\n",
    "y_pred = regr.predict(X_test)\n",
    "print_metrics(y_test, y_pred)"
   ]
  },
  {
   "cell_type": "code",
   "execution_count": 62,
   "metadata": {},
   "outputs": [
    {
     "name": "stdout",
     "output_type": "stream",
     "text": [
      "R2 Score: 0.16075225894473877\n",
      "MAPE :57.42736564256871%\n"
     ]
    }
   ],
   "source": [
    "linear_regressor = LinearRegression()\n",
    "linear_regressor.fit(X_train, y_train)\n",
    "y_pred = linear_regressor.predict(X_test)\n",
    "print_metrics(y_test, y_pred)"
   ]
  },
  {
   "cell_type": "code",
   "execution_count": 63,
   "metadata": {},
   "outputs": [
    {
     "name": "stdout",
     "output_type": "stream",
     "text": [
      "R2 Score: 0.0029953517249381445\n",
      "MAPE :32.389458630507036%\n"
     ]
    }
   ],
   "source": [
    "regr = make_pipeline(StandardScaler(), SVR(kernel='linear'))\n",
    "regr.fit(X_train, y_train)\n",
    "y_pred = regr.predict(X_test)\n",
    "print_metrics(y_test, y_pred)"
   ]
  },
  {
   "cell_type": "markdown",
   "metadata": {},
   "source": [
    "## Third dataset"
   ]
  },
  {
   "cell_type": "code",
   "execution_count": 64,
   "metadata": {},
   "outputs": [],
   "source": [
    "next_pc_list = []\n",
    "for index, row in df_concat.iterrows():\n",
    "    next_pc = None\n",
    "    #The last row won't have a next power consumption so we stop at the second to last\n",
    "    if(index < len(df_concat)-1):\n",
    "        next_pc = df_concat.iloc[index+1].power_consumption\n",
    "    next_pc_list.append(next_pc)\n",
    "    \n",
    "#We create a new column for the dataframe from the list, then drop the last row that doesn't have the value\n",
    "df_concat['next_pc'] = next_pc_list\n",
    "df_concat.dropna(inplace=True)"
   ]
  },
  {
   "cell_type": "code",
   "execution_count": 65,
   "metadata": {},
   "outputs": [],
   "source": [
    "X = df_concat[['time_of_day', 'num_sensors','temperature']]\n",
    "y = df_concat['power_consumption']\n",
    "X_train, X_test, y_train, y_test = train_test_split(X, y, test_size=0.33, random_state=42)"
   ]
  },
  {
   "cell_type": "code",
   "execution_count": 66,
   "metadata": {},
   "outputs": [
    {
     "name": "stdout",
     "output_type": "stream",
     "text": [
      "R2 Score: 0.16374583369810392\n",
      "MAPE :82.83403131201938%\n"
     ]
    }
   ],
   "source": [
    "regr = DecisionTreeRegressor(max_depth=4)\n",
    "regr.fit(X_train, y_train)\n",
    "y_pred = regr.predict(X_test)\n",
    "print_metrics(y_test, y_pred)"
   ]
  },
  {
   "cell_type": "code",
   "execution_count": 67,
   "metadata": {},
   "outputs": [
    {
     "name": "stdout",
     "output_type": "stream",
     "text": [
      "R2 Score: 0.06260694339668238\n",
      "MAPE :82.56284903847269%\n"
     ]
    }
   ],
   "source": [
    "regr = make_pipeline(StandardScaler(), SVR(kernel='linear'))\n",
    "regr.fit(X_train, y_train)\n",
    "y_pred = regr.predict(X_test)\n",
    "print_metrics(y_test, y_pred)"
   ]
  },
  {
   "cell_type": "markdown",
   "metadata": {},
   "source": [
    "### Testing results\n",
    "\n",
    "<table class=\"tg\">\n",
    "    <caption>Test results (1 hour)</caption>\n",
    "<thead>\n",
    "  <tr>\n",
    "    <th class=\"tg-0pky\">Dataset</th>\n",
    "    <th class=\"tg-0pky\">Number of samples</th>\n",
    "    <th class=\"tg-0pky\">R2 score</th>\n",
    "    <th class=\"tg-0pky\">Mean absolute percentage error</th>\n",
    "    <th class=\"tg-0pky\">Algorithm</th>\n",
    "  </tr>\n",
    "</thead>\n",
    "<tbody>\n",
    "  <tr>\n",
    "    <td class=\"tg-0pky\">Spring 2009 (7)</td>\n",
    "    <td class=\"tg-0pky\">2177</td>\n",
    "    <td class=\"tg-0pky\">0.23</td>\n",
    "    <td class=\"tg-0lax\">39.15%</td>\n",
    "    <td class=\"tg-0lax\">Decision Tree regressor</td>\n",
    "  </tr>\n",
    "  <tr>\n",
    "    <td class=\"tg-0pky\">Summer 2009 (8)</td>\n",
    "    <td class=\"tg-0pky\">1354</td>\n",
    "    <td class=\"tg-0pky\">0.442</td>\n",
    "    <td class=\"tg-0lax\">43.77%</td>\n",
    "    <td class=\"tg-0lax\">Decision tree regressor</td>\n",
    "  </tr>\n",
    "  <tr>\n",
    "    <td class=\"tg-0pky\">Merged dataset</td>\n",
    "    <td class=\"tg-0pky\">3531</td>\n",
    "    <td class=\"tg-0pky\">0.266</td>\n",
    "    <td class=\"tg-0lax\">49.47%</td>\n",
    "    <td class=\"tg-0lax\">Decision Tree regressor</td>\n",
    "  </tr>\n",
    "</tbody>\n",
    "</table>\n",
    "\n",
    "\n",
    "<table class=\"tg\">\n",
    "    <caption>Test results (15 minutes)</caption>\n",
    "<thead>\n",
    "  <tr>\n",
    "    <th class=\"tg-0pky\">Dataset</th>\n",
    "    <th class=\"tg-0pky\">Number of samples</th>\n",
    "    <th class=\"tg-0pky\">R2 score</th>\n",
    "    <th class=\"tg-0pky\">Mean absolute percentage error</th>\n",
    "    <th class=\"tg-0pky\">Algorithm</th>\n",
    "  </tr>\n",
    "</thead>\n",
    "<tbody>\n",
    "  <tr>\n",
    "    <td class=\"tg-0pky\">Spring 2009 (7)</td>\n",
    "    <td class=\"tg-0pky\">8676</td>\n",
    "    <td class=\"tg-0pky\">0.318</td>\n",
    "    <td class=\"tg-0lax\">73.83%</td>\n",
    "    <td class=\"tg-0lax\">Decision Tree regressor</td>\n",
    "  </tr>\n",
    "  <tr>\n",
    "    <td class=\"tg-0pky\">Summer 2009 (8)</td>\n",
    "    <td class=\"tg-0pky\">5047</td>\n",
    "    <td class=\"tg-0pky\">0.268</td>\n",
    "    <td class=\"tg-0lax\">50.31%</td>\n",
    "    <td class=\"tg-0lax\">Decision tree regressor</td>\n",
    "  </tr>\n",
    "  <tr>\n",
    "    <td class=\"tg-0pky\">Merged dataset</td>\n",
    "    <td class=\"tg-0pky\">13723</td>\n",
    "    <td class=\"tg-0pky\">0.164</td>\n",
    "    <td class=\"tg-0lax\">82.83%</td>\n",
    "    <td class=\"tg-0lax\">Decision tree regressor</td>\n",
    "  </tr>\n",
    "</tbody>\n",
    "</table>"
   ]
  },
  {
   "cell_type": "code",
   "execution_count": null,
   "metadata": {},
   "outputs": [],
   "source": []
  }
 ],
 "metadata": {
  "kernelspec": {
   "display_name": "Python 3",
   "language": "python",
   "name": "python3"
  },
  "language_info": {
   "codemirror_mode": {
    "name": "ipython",
    "version": 3
   },
   "file_extension": ".py",
   "mimetype": "text/x-python",
   "name": "python",
   "nbconvert_exporter": "python",
   "pygments_lexer": "ipython3",
   "version": "3.9.4"
  }
 },
 "nbformat": 4,
 "nbformat_minor": 4
}
